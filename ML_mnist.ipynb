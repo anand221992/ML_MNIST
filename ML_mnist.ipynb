{
  "nbformat": 4,
  "nbformat_minor": 0,
  "metadata": {
    "colab": {
      "name": "ML_mnist.ipynb",
      "provenance": [],
      "toc_visible": true,
      "include_colab_link": true
    },
    "kernelspec": {
      "name": "python3",
      "display_name": "Python 3"
    },
    "language_info": {
      "name": "python"
    },
    "accelerator": "GPU",
    "gpuClass": "standard"
  },
  "cells": [
    {
      "cell_type": "markdown",
      "metadata": {
        "id": "view-in-github",
        "colab_type": "text"
      },
      "source": [
        "<a href=\"https://colab.research.google.com/github/anand221992/ML_MNIST/blob/main/ML_mnist.ipynb\" target=\"_parent\"><img src=\"https://colab.research.google.com/assets/colab-badge.svg\" alt=\"Open In Colab\"/></a>"
      ]
    },
    {
      "cell_type": "markdown",
      "source": [
        "# INTRODUCTION"
      ],
      "metadata": {
        "id": "doUxRjtMLJzd"
      }
    },
    {
      "cell_type": "markdown",
      "source": [
        "This project/notebook implements very basic ML algorithms. Its also a mix of two out of the five projects that I did in the EDX MIT MOOC( link text). Most of the helper functions and the basic structure were given in the base project. The idea behind converting this to a notebook was to make it more organised, readable and runnable off the shelf.\n",
        "\n",
        "One more reason behind making this notebook was to present the ML related helper functions more explicitly in one runnable format."
      ],
      "metadata": {
        "id": "o6fjraKOLSe-"
      }
    },
    {
      "cell_type": "markdown",
      "source": [
        "Make sure that the 'Datasets' folder is there, if not try accessing using my drive link: [Datasets](https://drive.google.com/drive/folders/1VVqQYumByJ8iSuJ5G-rz4epEu-IQWDLH?usp=sharing)"
      ],
      "metadata": {
        "id": "yWvzwH7GyKLE"
      }
    },
    {
      "cell_type": "code",
      "source": [
        "from google.colab import drive\n",
        "drive.mount('/content/drive')"
      ],
      "metadata": {
        "colab": {
          "base_uri": "https://localhost:8080/"
        },
        "id": "rekuFtPFrIz5",
        "outputId": "9110ebea-9b20-4b58-8231-f9a53b32f5be"
      },
      "execution_count": null,
      "outputs": [
        {
          "output_type": "stream",
          "name": "stdout",
          "text": [
            "Drive already mounted at /content/drive; to attempt to forcibly remount, call drive.mount(\"/content/drive\", force_remount=True).\n"
          ]
        }
      ]
    },
    {
      "cell_type": "code",
      "execution_count": null,
      "metadata": {
        "id": "lZ_8ANCJrnBy"
      },
      "outputs": [],
      "source": [
        "!cp /content/drive/MyDrive/Datasets ./"
      ]
    },
    {
      "cell_type": "markdown",
      "source": [
        "# READING DATASET HELPER FUNCTIONS"
      ],
      "metadata": {
        "id": "OG_Y8Pv1wu98"
      }
    },
    {
      "cell_type": "code",
      "source": [
        "import pickle, gzip, numpy as np\n",
        "import matplotlib.pyplot as plt\n",
        "import matplotlib.cm as cm\n",
        "import math\n",
        "\n",
        "\n",
        "def plot_images(X):\n",
        "    if X.ndim == 1:\n",
        "        X = np.array([X])\n",
        "    num_images = X.shape[0]\n",
        "    num_rows = math.floor(math.sqrt(num_images))\n",
        "    num_cols = math.ceil(num_images/num_rows)\n",
        "    for i in range(num_images):\n",
        "        reshaped_image = X[i,:].reshape(28,28)\n",
        "        plt.subplot(num_rows, num_cols, i+1)\n",
        "        plt.imshow(reshaped_image, cmap = cm.Greys_r)\n",
        "        plt.axis('off')\n",
        "    plt.show()\n",
        "\n",
        "\n",
        "def pick_examples_of(X, Y, labels, total_count):\n",
        "    bool_arr = None\n",
        "    for label in labels:\n",
        "        bool_arr_for_label = (Y == label)\n",
        "        if bool_arr is None:\n",
        "            bool_arr = bool_arr_for_label\n",
        "        else:\n",
        "            bool_arr |= bool_arr_for_label\n",
        "    filtered_x = X[bool_arr]\n",
        "    filtered_y = Y[bool_arr]\n",
        "    return (filtered_x[:total_count], filtered_y[:total_count])\n",
        "\n",
        "\n",
        "def extract_training_and_test_examples_with_labels(train_x, train_y, test_x, test_y, labels, training_count, test_count):\n",
        "    filtered_train_x, filtered_train_y = pick_examples_of(train_x, train_y, labels, training_count)\n",
        "    filtered_test_x, filtered_test_y = pick_examples_of(test_x, test_y, labels, test_count)\n",
        "    return (filtered_train_x, filtered_train_y, filtered_test_x, filtered_test_y)\n",
        "\n",
        "def write_pickle_data(data, file_name):\n",
        "    f = gzip.open(file_name, 'wb')\n",
        "    pickle.dump(data, f)\n",
        "    f.close()\n",
        "\n",
        "def read_pickle_data(file_name):\n",
        "    f = gzip.open(file_name, 'rb')\n",
        "    data = pickle.load(f, encoding='latin1')\n",
        "    f.close()\n",
        "    return data\n",
        "\n",
        "def get_MNIST_data():\n",
        "    \"\"\"\n",
        "    Reads mnist dataset from file\n",
        "\n",
        "    Returns:\n",
        "        train_x - 2D Numpy array (n, d) where each row is an image\n",
        "        train_y - 1D Numpy array (n, ) where each row is a label\n",
        "        test_x  - 2D Numpy array (n, d) where each row is an image\n",
        "        test_y  - 1D Numpy array (n, ) where each row is a label\n",
        "\n",
        "    \"\"\"\n",
        "    train_set, valid_set, test_set = read_pickle_data('./Datasets/mnist.pkl.gz')\n",
        "    train_x, train_y = train_set\n",
        "    valid_x, valid_y = valid_set\n",
        "    train_x = np.vstack((train_x, valid_x))\n",
        "    train_y = np.append(train_y, valid_y)\n",
        "    test_x, test_y = test_set\n",
        "    return (train_x, train_y, test_x, test_y)\n",
        "\n",
        "def load_train_and_test_pickle(file_name):\n",
        "    train_x, train_y, test_x, test_y = read_pickle_data(file_name)\n",
        "    return train_x, train_y, test_x, test_y\n",
        "\n",
        "# returns the feature set in a numpy ndarray\n",
        "def load_CSV(filename):\n",
        "    stuff = np.asarray(np.loadtxt(open(filename, 'rb'), delimiter=','))\n",
        "    return stuff\n"
      ],
      "metadata": {
        "id": "YvW1rd-zw8fa"
      },
      "execution_count": null,
      "outputs": []
    },
    {
      "cell_type": "markdown",
      "source": [
        "# LINEAR REGRESSION(the closed form one)"
      ],
      "metadata": {
        "id": "BaPQPFMlv8gU"
      }
    },
    {
      "cell_type": "code",
      "source": [
        "import numpy as np\n",
        "\n",
        "def closed_form(X, Y, lambda_factor):\n",
        "    \"\"\"\n",
        "    Computes the closed form solution of linear regression with L2 regularization\n",
        "\n",
        "    Args:\n",
        "        X - (n, d + 1) NumPy array (n datapoints each with d features plus the bias feature in the first dimension)\n",
        "        Y - (n, ) NumPy array containing the labels (a number from 0-9) for each\n",
        "            data point\n",
        "        lambda_factor - the regularization constant (scalar)\n",
        "    Returns:\n",
        "        theta - (d + 1, ) NumPy array containing the weights of linear regression. Note that theta[0]\n",
        "        represents the y-axis intercept of the model and therefore X[0] = 1\n",
        "    \"\"\"\n",
        "    a = X.T @ X\n",
        "    b = lambda_factor * np.identity(X.shape[1])\n",
        "    c = X.T @ Y\n",
        "    d = np.linalg.inv(a + b)\n",
        "    return d @ c\n",
        "\n",
        "def compute_test_error_linear(test_x, Y, theta):\n",
        "    test_y_predict = np.round(np.dot(test_x, theta))\n",
        "    test_y_predict[test_y_predict < 0] = 0\n",
        "    test_y_predict[test_y_predict > 9] = 9\n",
        "    return 1 - np.mean(test_y_predict == Y)"
      ],
      "metadata": {
        "id": "IQAFqwmKwO7D"
      },
      "execution_count": null,
      "outputs": []
    },
    {
      "cell_type": "markdown",
      "source": [
        "# SVM(Multiclass and One vs all, from sklearn)"
      ],
      "metadata": {
        "id": "0nt_wRytzjOq"
      }
    },
    {
      "cell_type": "code",
      "source": [
        "import numpy as np\n",
        "from sklearn.svm import LinearSVC\n",
        "\n",
        "def one_vs_rest_svm(train_x, train_y, test_x):\n",
        "    \"\"\"\n",
        "    Trains a linear SVM for binary classifciation\n",
        "\n",
        "    Args:\n",
        "        train_x - (n, d) NumPy array (n datapoints each with d features)\n",
        "        train_y - (n, ) NumPy array containing the labels (0 or 1) for each training data point\n",
        "        test_x - (m, d) NumPy array (m datapoints each with d features)\n",
        "    Returns:\n",
        "        pred_test_y - (m,) NumPy array containing the labels (0 or 1) for each test data point\n",
        "    \"\"\"\n",
        "    clf = LinearSVC(C=0.1, random_state=0).fit(train_x, train_y)\n",
        "    # decision_function = clf.decision_function(test_x)\n",
        "    pred_test_y = clf.predict(test_x)\n",
        "    return pred_test_y\n",
        "\n",
        "\n",
        "def multi_class_svm(train_x, train_y, test_x):\n",
        "    \"\"\"\n",
        "    Trains a linear SVM for multiclass classifciation using a one-vs-rest strategy\n",
        "\n",
        "    Args:\n",
        "        train_x - (n, d) NumPy array (n datapoints each with d features)\n",
        "        train_y - (n, ) NumPy array containing the labels (int) for each training data point\n",
        "        test_x - (m, d) NumPy array (m datapoints each with d features)\n",
        "    Returns:\n",
        "        pred_test_y - (m,) NumPy array containing the labels (int) for each test data point\n",
        "    \"\"\"\n",
        "    clf = LinearSVC(C=0.1, random_state=0).fit(train_x, train_y)\n",
        "    # decision_function = clf.decision_function(test_x)\n",
        "    pred_test_y = clf.predict(test_x)\n",
        "    return pred_test_y\n",
        "\n",
        "\n",
        "def compute_test_error_svm(test_y, pred_test_y):\n",
        "    return 1 - np.mean(pred_test_y == test_y)\n",
        "\n"
      ],
      "metadata": {
        "id": "G0Wzu4HNzq06"
      },
      "execution_count": null,
      "outputs": []
    },
    {
      "cell_type": "markdown",
      "source": [
        "# Multinomial (Softmax) Regression and Gradient Descent\n",
        "It has a variation on the output as well, instead of outputting y, the output of y%3 is tried and separate function definitions are written."
      ],
      "metadata": {
        "id": "znjG8AnT2pBw"
      }
    },
    {
      "cell_type": "code",
      "source": [
        "import numpy as np\n",
        "import matplotlib.pyplot as plt\n",
        "import scipy.sparse as sparse\n",
        "\n",
        "\n",
        "def augment_feature_vector(X):\n",
        "    \"\"\"\n",
        "    Adds the x[i][0] = 1 feature for each data point x[i].\n",
        "\n",
        "    Args:\n",
        "        X - a NumPy matrix of n data points, each with d - 1 features\n",
        "\n",
        "    Returns: X_augment, an (n, d) NumPy array with the added feature for each datapoint\n",
        "    \"\"\"\n",
        "    column_of_ones = np.zeros([len(X), 1]) + 1\n",
        "    return np.hstack((column_of_ones, X))\n",
        "\n",
        "def compute_probabilities(X, theta, temp_parameter):\n",
        "    \"\"\"\n",
        "    Computes, for each datapoint X[i], the probability that X[i] is labeled as j\n",
        "    for j = 0, 1, ..., k-1\n",
        "\n",
        "    Args:\n",
        "        X - (n, d) NumPy array (n datapoints each with d features)\n",
        "        theta - (k, d) NumPy array, where row j represents the parameters of our model for label j\n",
        "        temp_parameter - the temperature parameter of softmax function (scalar)\n",
        "    Returns:\n",
        "        H - (k, n) NumPy array, where each entry H[j][i] is the probability that X[i] is labeled as j\n",
        "    \"\"\"\n",
        "    theta_trans_X = theta @ X.T\n",
        "    theta_trans_X = theta_trans_X / temp_parameter\n",
        "    c_vec = np.amax(theta_trans_X, axis=0)\n",
        "\n",
        "    for col_idx in range(theta_trans_X.shape[1]):\n",
        "        theta_trans_X.T[col_idx] -= c_vec[col_idx]\n",
        "\n",
        "    theta_trans_X = np.exp(theta_trans_X)\n",
        "    sum_vec = np.sum(theta_trans_X, axis=0)\n",
        "    for col_idx in range(theta_trans_X.shape[1]):\n",
        "        theta_trans_X.T[col_idx] /= sum_vec[col_idx]\n",
        "\n",
        "    return theta_trans_X\n",
        "\n",
        "\n",
        "def compute_cost_function(X, Y, theta, lambda_factor, temp_parameter):\n",
        "    \"\"\"\n",
        "    Computes the total cost over every datapoint.\n",
        "\n",
        "    Args:\n",
        "        X - (n, d) NumPy array (n datapoints each with d features)\n",
        "        Y - (n, ) NumPy array containing the labels (a number from 0-9) for each\n",
        "            data point\n",
        "        theta - (k, d) NumPy array, where row j represents the parameters of our\n",
        "                model for label j\n",
        "        lambda_factor - the regularization constant (scalar)\n",
        "        temp_parameter - the temperature parameter of softmax function (scalar)\n",
        "\n",
        "    Returns\n",
        "        c - the cost value (scalar)\n",
        "    \"\"\"\n",
        "    probs = compute_probabilities(X, theta, temp_parameter)\n",
        "    score = np.log(probs)\n",
        "    score = np.nan_to_num(score, posinf=0, neginf=0)\n",
        "    y_modified = np.zeros(probs.shape)\n",
        "    for j in range(probs.shape[1]):\n",
        "        for i in range(probs.shape[0]):\n",
        "            y_modified[i][j] = 1.0 if Y[j] == i else 0.0\n",
        "    first = y_modified * score\n",
        "    first = -np.sum(first) / probs.shape[1]\n",
        "\n",
        "    second = theta ** 2\n",
        "    second = np.sum(second)\n",
        "    second = lambda_factor / 2.0 * second\n",
        "    return first + second\n",
        "\n",
        "def run_gradient_descent_iteration(X, Y, theta, alpha, lambda_factor, temp_parameter):\n",
        "    \"\"\"\n",
        "    Runs one step of batch gradient descent\n",
        "\n",
        "    Args:\n",
        "        X - (n, d) NumPy array (n datapoints each with d features)\n",
        "        Y - (n, ) NumPy array containing the labels (a number from 0-9) for each\n",
        "            data point\n",
        "        theta - (k, d) NumPy array, where row j represents the parameters of our\n",
        "                model for label j\n",
        "        alpha - the learning rate (scalar)\n",
        "        lambda_factor - the regularization constant (scalar)\n",
        "        temp_parameter - the temperature parameter of softmax function (scalar)\n",
        "\n",
        "    Returns:\n",
        "        theta - (k, d) NumPy array that is the final value of parameters theta\n",
        "    \"\"\"\n",
        "    probs = compute_probabilities(X, theta, temp_parameter)\n",
        "    n = probs.shape[1]\n",
        "    k = probs.shape[0]\n",
        "    y_modified = sparse.coo_matrix(([1] * n, (Y, range(n))), shape=(k, n)).toarray()\n",
        "\n",
        "    M = y_modified - probs\n",
        "    M = M @ X\n",
        "    first = -M / temp_parameter / n\n",
        "    second = lambda_factor * theta\n",
        "    delta = first + second\n",
        "    new_theta = theta - delta * alpha\n",
        "\n",
        "    return new_theta\n",
        "\n",
        "def update_y(train_y, test_y):\n",
        "    \"\"\"\n",
        "    Changes the old digit labels for the training and test set for the new (mod 3)\n",
        "    labels.\n",
        "\n",
        "    Args:\n",
        "        train_y - (n, ) NumPy array containing the labels (a number between 0-9)\n",
        "                 for each datapoint in the training set\n",
        "        test_y - (n, ) NumPy array containing the labels (a number between 0-9)\n",
        "                for each datapoint in the test set\n",
        "\n",
        "    Returns:\n",
        "        train_y_mod3 - (n, ) NumPy array containing the new labels (a number between 0-2)\n",
        "                     for each datapoint in the training set\n",
        "        test_y_mod3 - (n, ) NumPy array containing the new labels (a number between 0-2)\n",
        "                    for each datapoint in the test set\n",
        "    \"\"\"\n",
        "    return train_y % 3, test_y % 3\n",
        "\n",
        "def compute_test_error_mod3(X, Y, theta, temp_parameter):\n",
        "    \"\"\"\n",
        "    Returns the error of these new labels when the classifier predicts the digit. (mod 3)\n",
        "\n",
        "    Args:\n",
        "        X - (n, d - 1) NumPy array (n datapoints each with d - 1 features)\n",
        "        Y - (n, ) NumPy array containing the labels (a number from 0-2) for each\n",
        "            data point\n",
        "        theta - (k, d) NumPy array, where row j represents the parameters of our\n",
        "                model for label j\n",
        "        temp_parameter - the temperature parameter of softmax function (scalar)\n",
        "\n",
        "    Returns:\n",
        "        test_error - the error rate of the classifier (scalar)\n",
        "    \"\"\"\n",
        "    assigned_labels = get_classification(X, theta, temp_parameter)\n",
        "    assigned_labels = assigned_labels % 3\n",
        "    return 1 - np.mean(assigned_labels == Y)\n",
        "\n",
        "def softmax_regression(X, Y, temp_parameter, alpha, lambda_factor, k, num_iterations):\n",
        "    \"\"\"\n",
        "    Runs batch gradient descent for a specified number of iterations on a dataset\n",
        "    with theta initialized to the all-zeros array. Here, theta is a k by d NumPy array\n",
        "    where row j represents the parameters of our model for label j for\n",
        "    j = 0, 1, ..., k-1\n",
        "\n",
        "    Args:\n",
        "        X - (n, d - 1) NumPy array (n data points, each with d-1 features)\n",
        "        Y - (n, ) NumPy array containing the labels (a number from 0-9) for each\n",
        "            data point\n",
        "        temp_parameter - the temperature parameter of softmax function (scalar)\n",
        "        alpha - the learning rate (scalar)\n",
        "        lambda_factor - the regularization constant (scalar)\n",
        "        k - the number of labels (scalar)\n",
        "        num_iterations - the number of iterations to run gradient descent (scalar)\n",
        "\n",
        "    Returns:\n",
        "        theta - (k, d) NumPy array that is the final value of parameters theta\n",
        "        cost_function_progression - a Python list containing the cost calculated at each step of gradient descent\n",
        "    \"\"\"\n",
        "    X = augment_feature_vector(X)\n",
        "    theta = np.zeros([k, X.shape[1]])\n",
        "    cost_function_progression = []\n",
        "    for i in range(num_iterations):\n",
        "        cost_function_progression.append(compute_cost_function(X, Y, theta, lambda_factor, temp_parameter))\n",
        "        theta = run_gradient_descent_iteration(X, Y, theta, alpha, lambda_factor, temp_parameter)\n",
        "    return theta, cost_function_progression\n",
        "\n",
        "def get_classification(X, theta, temp_parameter):\n",
        "    \"\"\"\n",
        "    Makes predictions by classifying a given dataset\n",
        "\n",
        "    Args:\n",
        "        X - (n, d - 1) NumPy array (n data points, each with d - 1 features)\n",
        "        theta - (k, d) NumPy array where row j represents the parameters of our model for\n",
        "                label j\n",
        "        temp_parameter - the temperature parameter of softmax function (scalar)\n",
        "\n",
        "    Returns:\n",
        "        Y - (n, ) NumPy array, containing the predicted label (a number between 0-9) for\n",
        "            each data point\n",
        "    \"\"\"\n",
        "    X = augment_feature_vector(X)\n",
        "    probabilities = compute_probabilities(X, theta, temp_parameter)\n",
        "    return np.argmax(probabilities, axis = 0)\n",
        "\n",
        "def plot_cost_function_over_time(cost_function_history):\n",
        "    plt.plot(range(len(cost_function_history)), cost_function_history)\n",
        "    plt.ylabel('Cost Function')\n",
        "    plt.xlabel('Iteration number')\n",
        "    plt.show()\n",
        "\n",
        "def compute_test_error(X, Y, theta, temp_parameter):\n",
        "    error_count = 0.\n",
        "    assigned_labels = get_classification(X, theta, temp_parameter)\n",
        "    return 1 - np.mean(assigned_labels == Y)\n"
      ],
      "metadata": {
        "id": "w1ngpk3N2wLt"
      },
      "execution_count": null,
      "outputs": []
    },
    {
      "cell_type": "markdown",
      "source": [
        "# Driver Code(for running the above models)"
      ],
      "metadata": {
        "id": "LRvffFQt50q9"
      }
    },
    {
      "cell_type": "code",
      "source": [
        "import sys\n",
        "import numpy as np\n",
        "import matplotlib.pyplot as plt\n",
        "\n",
        "\n",
        "#######################################################################\n",
        "# 1. Introduction\n",
        "#######################################################################\n",
        "\n",
        "# Load MNIST data:\n",
        "train_x, train_y, test_x, test_y = get_MNIST_data()\n",
        "# Plot the first 20 images of the training set.\n",
        "plot_images(train_x[0:20, :])\n",
        "\n",
        "#######################################################################\n",
        "# 2. Linear Regression with Closed Form Solution\n",
        "#######################################################################\n",
        "\n",
        "# TODO: first fill out functions in linear_regression.py, otherwise the functions below will not work\n",
        "\n",
        "\n",
        "def run_linear_regression_on_MNIST(lambda_factor=1):\n",
        "    \"\"\"\n",
        "    Trains linear regression, classifies test data, computes test error on test set\n",
        "\n",
        "    Returns:\n",
        "        Final test error\n",
        "    \"\"\"\n",
        "    train_x, train_y, test_x, test_y = get_MNIST_data()\n",
        "    train_x_bias = np.hstack([np.ones([train_x.shape[0], 1]), train_x])\n",
        "    test_x_bias = np.hstack([np.ones([test_x.shape[0], 1]), test_x])\n",
        "    theta = closed_form(train_x_bias, train_y, lambda_factor)\n",
        "    test_error = compute_test_error_linear(test_x_bias, test_y, theta)\n",
        "    return test_error\n",
        "\n",
        "print('Linear Regression test_error =', run_linear_regression_on_MNIST(lambda_factor=1))\n",
        "\n",
        "\n",
        "#######################################################################\n",
        "# 3. Support Vector Machine\n",
        "#######################################################################\n",
        "\n",
        "# TODO: first fill out functions in svm.py, or the functions below will not work\n",
        "\n",
        "def run_svm_one_vs_rest_on_MNIST():\n",
        "    \"\"\"\n",
        "    Trains svm, classifies test data, computes test error on test set\n",
        "\n",
        "    Returns:\n",
        "        Test error for the binary svm\n",
        "    \"\"\"\n",
        "    train_x, train_y, test_x, test_y = get_MNIST_data()\n",
        "    train_y[train_y != 0] = 1\n",
        "    test_y[test_y != 0] = 1\n",
        "    pred_test_y = one_vs_rest_svm(train_x, train_y, test_x)\n",
        "    test_error = compute_test_error_svm(test_y, pred_test_y)\n",
        "    return test_error\n",
        "\n",
        "\n",
        "print('SVM one vs. rest test_error:', run_svm_one_vs_rest_on_MNIST())\n",
        "\n",
        "\n",
        "def run_multiclass_svm_on_MNIST():\n",
        "    \"\"\"\n",
        "    Trains svm, classifies test data, computes test error on test set\n",
        "\n",
        "    Returns:\n",
        "        Test error for the binary svm\n",
        "    \"\"\"\n",
        "    train_x, train_y, test_x, test_y = get_MNIST_data()\n",
        "    pred_test_y = multi_class_svm(train_x, train_y, test_x)\n",
        "    test_error = compute_test_error_svm(test_y, pred_test_y)\n",
        "    return test_error\n",
        "\n",
        "\n",
        "print('Multiclass SVM test_error:', run_multiclass_svm_on_MNIST())\n",
        "\n",
        "#######################################################################\n",
        "# 4. Multinomial (Softmax) Regression and Gradient Descent\n",
        "#######################################################################\n",
        "def run_softmax_on_MNIST(temp_parameter=1):\n",
        "    \"\"\"\n",
        "    Trains softmax, classifies test data, computes test error, and plots cost function\n",
        "\n",
        "    Runs softmax_regression on the MNIST training set and computes the test error using\n",
        "    the test set. It uses the following values for parameters:\n",
        "    alpha = 0.3\n",
        "    lambda = 1e-4\n",
        "    num_iterations = 150\n",
        "\n",
        "    Saves the final theta to ./theta.pkl.gz\n",
        "\n",
        "    Returns:\n",
        "        Final test error\n",
        "    \"\"\"\n",
        "    train_x, train_y, test_x, test_y = get_MNIST_data()\n",
        "    theta, cost_function_history = softmax_regression(train_x, train_y, temp_parameter, alpha=0.3, lambda_factor=1.0e-4, k=10, num_iterations=150)\n",
        "    plot_cost_function_over_time(cost_function_history)\n",
        "    test_error = compute_test_error(test_x, test_y, theta, temp_parameter)\n",
        "    # Save the model parameters theta obtained from calling softmax_regression to disk.\n",
        "    write_pickle_data(theta, \"./theta.pkl.gz\")\n",
        "    return test_error\n",
        "\n",
        "\n",
        "print('Softmax test_error=', run_softmax_on_MNIST(temp_parameter=1))\n",
        "\n",
        "\n",
        "#######################################################################\n",
        "# 6. Changing Labels\n",
        "#######################################################################\n",
        "def run_softmax_on_MNIST_mod3(temp_parameter=1):\n",
        "    \"\"\"\n",
        "    Trains Softmax regression on digit (mod 3) classifications.\n",
        "\n",
        "    See run_softmax_on_MNIST for more info.\n",
        "    \"\"\"\n",
        "    train_x, train_y, test_x, test_y = get_MNIST_data()\n",
        "    train_y, test_y = update_y(train_y, test_y)\n",
        "    theta, cost_function_history = softmax_regression(train_x, train_y, temp_parameter, alpha=0.3, lambda_factor=1.0e-4,\n",
        "                                                      k=10, num_iterations=150)\n",
        "    plot_cost_function_over_time(cost_function_history)\n",
        "    test_error = compute_test_error(test_x, test_y, theta, temp_parameter)\n",
        "    # Save the model parameters theta obtained from calling softmax_regression to disk.\n",
        "    write_pickle_data(theta, \"./theta.pkl.gz\")\n",
        "    return test_error\n",
        "\n",
        "print('Softmax test_error with changed labels =', run_softmax_on_MNIST_mod3(temp_parameter=1))\n"
      ],
      "metadata": {
        "colab": {
          "base_uri": "https://localhost:8080/",
          "height": 859
        },
        "id": "n41aBd1_54mm",
        "outputId": "d58ecc53-5124-4f9a-90f6-f6effb9827f3"
      },
      "execution_count": null,
      "outputs": [
        {
          "output_type": "display_data",
          "data": {
            "text/plain": [
              "<Figure size 432x288 with 20 Axes>"
            ],
            "image/png": "[encoded data removed]"
          },
          "metadata": {
            "needs_background": "light"
          }
        },
        {
          "output_type": "stream",
          "name": "stdout",
          "text": [
            "Linear Regression test_error = 0.7697\n",
            "SVM one vs. rest test_error: 0.007499999999999951\n",
            "Multiclass SVM test_error: 0.08189999999999997\n"
          ]
        },
        {
          "output_type": "display_data",
          "data": {
            "text/plain": [
              "<Figure size 432x288 with 1 Axes>"
            ],
            "image/png": "[encoded data removed]"
          },
          "metadata": {
            "needs_background": "light"
          }
        },
        {
          "output_type": "stream",
          "name": "stdout",
          "text": [
            "softmax test_error= 0.10050000000000003\n"
          ]
        },
        {
          "output_type": "display_data",
          "data": {
            "text/plain": [
              "<Figure size 432x288 with 1 Axes>"
            ],
            "image/png": "[encoded data removed]"
          },
          "metadata": {
            "needs_background": "light"
          }
        },
        {
          "output_type": "stream",
          "name": "stdout",
          "text": [
            "softmax test_error with changed labels = 0.18720000000000003\n"
          ]
        }
      ]
    }
  ]
}